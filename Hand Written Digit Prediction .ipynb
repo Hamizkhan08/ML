{
  "nbformat": 4,
  "nbformat_minor": 0,
  "metadata": {
    "colab": {
      "provenance": [],
      "authorship_tag": "ABX9TyOgbSQkSb5rpy6atk/qKxV3",
      "include_colab_link": true
    },
    "kernelspec": {
      "name": "python3",
      "display_name": "Python 3"
    },
    "language_info": {
      "name": "python"
    }
  },
  "cells": [
    {
      "cell_type": "markdown",
      "metadata": {
        "id": "view-in-github",
        "colab_type": "text"
      },
      "source": [
        "<a href=\"https://colab.research.google.com/github/Hamizkhan08/ML/blob/main/Hand%20Written%20Digit%20Prediction%20.ipynb\" target=\"_parent\"><img src=\"https://colab.research.google.com/assets/colab-badge.svg\" alt=\"Open In Colab\"/></a>"
      ]
    },
    {
      "cell_type": "markdown",
      "source": [],
      "metadata": {
        "id": "gi0LW_kLz3Nf"
      }
    },
    {
      "cell_type": "markdown",
      "source": [
        "**Hand Written Digit Prediction** -Classification Analysis\n",
        "The digits dataset consists of 8x8 pixel images of digits. The images attribute of the dataset stores 8x8 arrays of grayscale values for each image. We will use these arrays to visualize the first 4 images. The target attribute of the dataset stores the digit each image represents"
      ],
      "metadata": {
        "id": "TWF35R6F5WWq"
      }
    },
    {
      "cell_type": "code",
      "execution_count": null,
      "metadata": {
        "id": "smMMyJ6xzuVb"
      },
      "outputs": [],
      "source": [
        "# prompt: import pandas as pd\n",
        "\n",
        "import pandas as pd\n"
      ]
    },
    {
      "cell_type": "code",
      "source": [
        "import numpy as np\n"
      ],
      "metadata": {
        "id": "hM8PxEUzz878"
      },
      "execution_count": null,
      "outputs": []
    },
    {
      "cell_type": "code",
      "source": [
        "import matplotlib.pyplot as plt\n"
      ],
      "metadata": {
        "id": "FMbp2CH50QkY"
      },
      "execution_count": null,
      "outputs": []
    },
    {
      "cell_type": "markdown",
      "source": [
        "**Import** **Data**"
      ],
      "metadata": {
        "id": "nBUgA_n90W8q"
      }
    },
    {
      "cell_type": "code",
      "source": [
        "from sklearn.datasets import load_digits"
      ],
      "metadata": {
        "id": "fTMznv400clT"
      },
      "execution_count": null,
      "outputs": []
    },
    {
      "cell_type": "code",
      "source": [
        "# prompt: df=load_digits()\n",
        "\n",
        "df = load_digits()\n"
      ],
      "metadata": {
        "id": "VzaMO0Zt0t9e"
      },
      "execution_count": null,
      "outputs": []
    },
    {
      "cell_type": "code",
      "source": [
        "_,axes = plt.subplots(nrows=1, ncols=4, figsize=(10, 3))\n",
        "for ax,image, label in zip(axes, df.images, df.target):\n",
        "    ax.set_axis_off()\n",
        "    ax.imshow(image, cmap=plt.cm.gray_r, interpolation='nearest')\n",
        "    ax.set_title('Training: %i' % label)\n",
        "\n"
      ],
      "metadata": {
        "colab": {
          "base_uri": "https://localhost:8080/",
          "height": 187
        },
        "id": "w7Spo40Y03F4",
        "outputId": "a8318d65-0317-4052-d69d-0b6ed2e6efd6"
      },
      "execution_count": null,
      "outputs": [
        {
          "output_type": "display_data",
          "data": {
            "text/plain": [
              "<Figure size 1000x300 with 4 Axes>"
            ],
            "image/png": "[encoded data removed]"
          },
          "metadata": {}
        }
      ]
    },
    {
      "cell_type": "markdown",
      "source": [
        "**DATA PROCESSING**"
      ],
      "metadata": {
        "id": "OixkIsjR1pt8"
      }
    },
    {
      "cell_type": "code",
      "source": [
        "# prompt: df.images.shape.\n",
        "\n",
        "print(df.images.shape)\n"
      ],
      "metadata": {
        "colab": {
          "base_uri": "https://localhost:8080/"
        },
        "id": "UzA6rzU-1ux8",
        "outputId": "021654cf-82b4-487f-970d-93b28512db6a"
      },
      "execution_count": null,
      "outputs": [
        {
          "output_type": "stream",
          "name": "stdout",
          "text": [
            "(1797, 8, 8)\n"
          ]
        }
      ]
    },
    {
      "cell_type": "code",
      "source": [
        "df.images[0]"
      ],
      "metadata": {
        "colab": {
          "base_uri": "https://localhost:8080/"
        },
        "id": "p0v2toCS1z20",
        "outputId": "e79a70f2-cf85-4afc-f1cb-b4951fe66939"
      },
      "execution_count": null,
      "outputs": [
        {
          "output_type": "execute_result",
          "data": {
            "text/plain": [
              "array([[ 0.,  0.,  5., 13.,  9.,  1.,  0.,  0.],\n",
              "       [ 0.,  0., 13., 15., 10., 15.,  5.,  0.],\n",
              "       [ 0.,  3., 15.,  2.,  0., 11.,  8.,  0.],\n",
              "       [ 0.,  4., 12.,  0.,  0.,  8.,  8.,  0.],\n",
              "       [ 0.,  5.,  8.,  0.,  0.,  9.,  8.,  0.],\n",
              "       [ 0.,  4., 11.,  0.,  1., 12.,  7.,  0.],\n",
              "       [ 0.,  2., 14.,  5., 10., 12.,  0.,  0.],\n",
              "       [ 0.,  0.,  6., 13., 10.,  0.,  0.,  0.]])"
            ]
          },
          "metadata": {},
          "execution_count": 7
        }
      ]
    },
    {
      "cell_type": "code",
      "source": [
        "df.images[0].shape"
      ],
      "metadata": {
        "colab": {
          "base_uri": "https://localhost:8080/"
        },
        "id": "9vrwIINv17e8",
        "outputId": "c375db07-f523-4ea0-d033-acf5a45a7c39"
      },
      "execution_count": null,
      "outputs": [
        {
          "output_type": "execute_result",
          "data": {
            "text/plain": [
              "(8, 8)"
            ]
          },
          "metadata": {},
          "execution_count": 8
        }
      ]
    },
    {
      "cell_type": "code",
      "source": [
        "len(df.images)"
      ],
      "metadata": {
        "colab": {
          "base_uri": "https://localhost:8080/"
        },
        "id": "aCCuJMXs1_9M",
        "outputId": "45b853ec-b2b2-4785-8442-5af995e86a87"
      },
      "execution_count": null,
      "outputs": [
        {
          "output_type": "execute_result",
          "data": {
            "text/plain": [
              "1797"
            ]
          },
          "metadata": {},
          "execution_count": 9
        }
      ]
    },
    {
      "cell_type": "code",
      "source": [
        "n_samples = len(df.images)\n",
        "data = df.images.reshape((n_samples, -1))"
      ],
      "metadata": {
        "id": "DU9dkcLt2E1y"
      },
      "execution_count": null,
      "outputs": []
    },
    {
      "cell_type": "code",
      "source": [
        "data[0]"
      ],
      "metadata": {
        "colab": {
          "base_uri": "https://localhost:8080/"
        },
        "id": "kdc_ap4K2I8V",
        "outputId": "a32a14bd-a674-4469-e7e5-5144f3d6e6b9"
      },
      "execution_count": null,
      "outputs": [
        {
          "output_type": "execute_result",
          "data": {
            "text/plain": [
              "array([ 0.,  0.,  5., 13.,  9.,  1.,  0.,  0.,  0.,  0., 13., 15., 10.,\n",
              "       15.,  5.,  0.,  0.,  3., 15.,  2.,  0., 11.,  8.,  0.,  0.,  4.,\n",
              "       12.,  0.,  0.,  8.,  8.,  0.,  0.,  5.,  8.,  0.,  0.,  9.,  8.,\n",
              "        0.,  0.,  4., 11.,  0.,  1., 12.,  7.,  0.,  0.,  2., 14.,  5.,\n",
              "       10., 12.,  0.,  0.,  0.,  0.,  6., 13., 10.,  0.,  0.,  0.])"
            ]
          },
          "metadata": {},
          "execution_count": 11
        }
      ]
    },
    {
      "cell_type": "code",
      "source": [
        "data[0].shape\n"
      ],
      "metadata": {
        "colab": {
          "base_uri": "https://localhost:8080/"
        },
        "id": "IOjdO8oA2LZz",
        "outputId": "0ff2cd43-c5ae-42fd-ba0b-97aa7d661160"
      },
      "execution_count": null,
      "outputs": [
        {
          "output_type": "execute_result",
          "data": {
            "text/plain": [
              "(64,)"
            ]
          },
          "metadata": {},
          "execution_count": 12
        }
      ]
    },
    {
      "cell_type": "code",
      "source": [
        "data.shape\n"
      ],
      "metadata": {
        "colab": {
          "base_uri": "https://localhost:8080/"
        },
        "id": "afL_O7wT2Pq6",
        "outputId": "a530d71a-83e6-438d-a6d9-ebe9761db77d"
      },
      "execution_count": null,
      "outputs": [
        {
          "output_type": "execute_result",
          "data": {
            "text/plain": [
              "(1797, 64)"
            ]
          },
          "metadata": {},
          "execution_count": 13
        }
      ]
    },
    {
      "cell_type": "code",
      "source": [
        "data.min()"
      ],
      "metadata": {
        "colab": {
          "base_uri": "https://localhost:8080/"
        },
        "id": "7zF21I1k2SmJ",
        "outputId": "ec3c71a4-5253-4c5c-b40a-4abea159aae8"
      },
      "execution_count": null,
      "outputs": [
        {
          "output_type": "execute_result",
          "data": {
            "text/plain": [
              "0.0"
            ]
          },
          "metadata": {},
          "execution_count": 14
        }
      ]
    },
    {
      "cell_type": "code",
      "source": [
        "data.max()"
      ],
      "metadata": {
        "colab": {
          "base_uri": "https://localhost:8080/"
        },
        "id": "LTNP0jf92XkH",
        "outputId": "5595cb67-e115-4c68-cd61-3fd9a5846f13"
      },
      "execution_count": null,
      "outputs": [
        {
          "output_type": "execute_result",
          "data": {
            "text/plain": [
              "16.0"
            ]
          },
          "metadata": {},
          "execution_count": 15
        }
      ]
    },
    {
      "cell_type": "code",
      "source": [
        "data = data / 16\n"
      ],
      "metadata": {
        "id": "eBL-W5222bc2"
      },
      "execution_count": null,
      "outputs": []
    },
    {
      "cell_type": "code",
      "source": [
        "data.min()"
      ],
      "metadata": {
        "colab": {
          "base_uri": "https://localhost:8080/"
        },
        "id": "b4AB3CDk2e46",
        "outputId": "3bebe26a-acba-4a95-a3de-ff74bf1f9248"
      },
      "execution_count": null,
      "outputs": [
        {
          "output_type": "execute_result",
          "data": {
            "text/plain": [
              "0.0"
            ]
          },
          "metadata": {},
          "execution_count": 17
        }
      ]
    },
    {
      "cell_type": "code",
      "source": [
        "data.max()"
      ],
      "metadata": {
        "colab": {
          "base_uri": "https://localhost:8080/"
        },
        "id": "6U6mUcvL2i2p",
        "outputId": "31e756d8-d000-4373-812a-2b09c82f3080"
      },
      "execution_count": null,
      "outputs": [
        {
          "output_type": "execute_result",
          "data": {
            "text/plain": [
              "1.0"
            ]
          },
          "metadata": {},
          "execution_count": 18
        }
      ]
    },
    {
      "cell_type": "code",
      "source": [
        "data[0]"
      ],
      "metadata": {
        "colab": {
          "base_uri": "https://localhost:8080/"
        },
        "id": "KeQW4yeg2lgc",
        "outputId": "d47b121c-68ab-4b84-a6d4-1e8749fc79a4"
      },
      "execution_count": null,
      "outputs": [
        {
          "output_type": "execute_result",
          "data": {
            "text/plain": [
              "array([0.    , 0.    , 0.3125, 0.8125, 0.5625, 0.0625, 0.    , 0.    ,\n",
              "       0.    , 0.    , 0.8125, 0.9375, 0.625 , 0.9375, 0.3125, 0.    ,\n",
              "       0.    , 0.1875, 0.9375, 0.125 , 0.    , 0.6875, 0.5   , 0.    ,\n",
              "       0.    , 0.25  , 0.75  , 0.    , 0.    , 0.5   , 0.5   , 0.    ,\n",
              "       0.    , 0.3125, 0.5   , 0.    , 0.    , 0.5625, 0.5   , 0.    ,\n",
              "       0.    , 0.25  , 0.6875, 0.    , 0.0625, 0.75  , 0.4375, 0.    ,\n",
              "       0.    , 0.125 , 0.875 , 0.3125, 0.625 , 0.75  , 0.    , 0.    ,\n",
              "       0.    , 0.    , 0.375 , 0.8125, 0.625 , 0.    , 0.    , 0.    ])"
            ]
          },
          "metadata": {},
          "execution_count": 19
        }
      ]
    },
    {
      "cell_type": "markdown",
      "source": [
        "Train Test Split Data"
      ],
      "metadata": {
        "id": "IX1d5IqZ2qEc"
      }
    },
    {
      "cell_type": "code",
      "source": [
        "from sklearn.model_selection import train_test_split"
      ],
      "metadata": {
        "id": "ngBj4DDo2tVG"
      },
      "execution_count": null,
      "outputs": []
    },
    {
      "cell_type": "code",
      "source": [
        "X_train, X_test, y_train, y_test = train_test_split(data, df.target, test_size=0.3)"
      ],
      "metadata": {
        "id": "sq0TXsDf2yCL"
      },
      "execution_count": null,
      "outputs": []
    },
    {
      "cell_type": "code",
      "source": [
        "X_train.shape, X_test.shape, y_train.shape, y_test.shape"
      ],
      "metadata": {
        "colab": {
          "base_uri": "https://localhost:8080/"
        },
        "id": "TnI9EHSd2_1o",
        "outputId": "89774e7f-1919-4201-abf5-4aeb23f4b54c"
      },
      "execution_count": null,
      "outputs": [
        {
          "output_type": "execute_result",
          "data": {
            "text/plain": [
              "((1257, 64), (540, 64), (1257,), (540,))"
            ]
          },
          "metadata": {},
          "execution_count": 22
        }
      ]
    },
    {
      "cell_type": "markdown",
      "source": [
        "Random Forest Model"
      ],
      "metadata": {
        "id": "hmpdkyNd3JFe"
      }
    },
    {
      "cell_type": "code",
      "source": [
        "from sklearn.ensemble import RandomForestClassifier"
      ],
      "metadata": {
        "id": "EWv5YOrO3NI6"
      },
      "execution_count": null,
      "outputs": []
    },
    {
      "cell_type": "code",
      "source": [
        "rf = RandomForestClassifier()"
      ],
      "metadata": {
        "id": "93lyLaQ83Q6d"
      },
      "execution_count": null,
      "outputs": []
    },
    {
      "cell_type": "code",
      "source": [
        "rf.fit(X_train, y_train)"
      ],
      "metadata": {
        "colab": {
          "base_uri": "https://localhost:8080/",
          "height": 74
        },
        "id": "UX64OEUZ3U0E",
        "outputId": "60b8e3b7-205c-4d28-f98e-b90d4bece25e"
      },
      "execution_count": null,
      "outputs": [
        {
          "output_type": "execute_result",
          "data": {
            "text/plain": [
              "RandomForestClassifier()"
            ],
            "text/html": [
              "<style>#sk-container-id-1 {color: black;}#sk-container-id-1 pre{padding: 0;}#sk-container-id-1 div.sk-toggleable {background-color: white;}#sk-container-id-1 label.sk-toggleable__label {cursor: pointer;display: block;width: 100%;margin-bottom: 0;padding: 0.3em;box-sizing: border-box;text-align: center;}#sk-container-id-1 label.sk-toggleable__label-arrow:before {content: \"▸\";float: left;margin-right: 0.25em;color: #696969;}#sk-container-id-1 label.sk-toggleable__label-arrow:hover:before {color: black;}#sk-container-id-1 div.sk-estimator:hover label.sk-toggleable__label-arrow:before {color: black;}#sk-container-id-1 div.sk-toggleable__content {max-height: 0;max-width: 0;overflow: hidden;text-align: left;background-color: #f0f8ff;}#sk-container-id-1 div.sk-toggleable__content pre {margin: 0.2em;color: black;border-radius: 0.25em;background-color: #f0f8ff;}#sk-container-id-1 input.sk-toggleable__control:checked~div.sk-toggleable__content {max-height: 200px;max-width: 100%;overflow: auto;}#sk-container-id-1 input.sk-toggleable__control:checked~label.sk-toggleable__label-arrow:before {content: \"▾\";}#sk-container-id-1 div.sk-estimator input.sk-toggleable__control:checked~label.sk-toggleable__label {background-color: #d4ebff;}#sk-container-id-1 div.sk-label input.sk-toggleable__control:checked~label.sk-toggleable__label {background-color: #d4ebff;}#sk-container-id-1 input.sk-hidden--visually {border: 0;clip: rect(1px 1px 1px 1px);clip: rect(1px, 1px, 1px, 1px);height: 1px;margin: -1px;overflow: hidden;padding: 0;position: absolute;width: 1px;}#sk-container-id-1 div.sk-estimator {font-family: monospace;background-color: #f0f8ff;border: 1px dotted black;border-radius: 0.25em;box-sizing: border-box;margin-bottom: 0.5em;}#sk-container-id-1 div.sk-estimator:hover {background-color: #d4ebff;}#sk-container-id-1 div.sk-parallel-item::after {content: \"\";width: 100%;border-bottom: 1px solid gray;flex-grow: 1;}#sk-container-id-1 div.sk-label:hover label.sk-toggleable__label {background-color: #d4ebff;}#sk-container-id-1 div.sk-serial::before {content: \"\";position: absolute;border-left: 1px solid gray;box-sizing: border-box;top: 0;bottom: 0;left: 50%;z-index: 0;}#sk-container-id-1 div.sk-serial {display: flex;flex-direction: column;align-items: center;background-color: white;padding-right: 0.2em;padding-left: 0.2em;position: relative;}#sk-container-id-1 div.sk-item {position: relative;z-index: 1;}#sk-container-id-1 div.sk-parallel {display: flex;align-items: stretch;justify-content: center;background-color: white;position: relative;}#sk-container-id-1 div.sk-item::before, #sk-container-id-1 div.sk-parallel-item::before {content: \"\";position: absolute;border-left: 1px solid gray;box-sizing: border-box;top: 0;bottom: 0;left: 50%;z-index: -1;}#sk-container-id-1 div.sk-parallel-item {display: flex;flex-direction: column;z-index: 1;position: relative;background-color: white;}#sk-container-id-1 div.sk-parallel-item:first-child::after {align-self: flex-end;width: 50%;}#sk-container-id-1 div.sk-parallel-item:last-child::after {align-self: flex-start;width: 50%;}#sk-container-id-1 div.sk-parallel-item:only-child::after {width: 0;}#sk-container-id-1 div.sk-dashed-wrapped {border: 1px dashed gray;margin: 0 0.4em 0.5em 0.4em;box-sizing: border-box;padding-bottom: 0.4em;background-color: white;}#sk-container-id-1 div.sk-label label {font-family: monospace;font-weight: bold;display: inline-block;line-height: 1.2em;}#sk-container-id-1 div.sk-label-container {text-align: center;}#sk-container-id-1 div.sk-container {/* jupyter's `normalize.less` sets `[hidden] { display: none; }` but bootstrap.min.css set `[hidden] { display: none !important; }` so we also need the `!important` here to be able to override the default hidden behavior on the sphinx rendered scikit-learn.org. See: https://github.com/scikit-learn/scikit-learn/issues/21755 */display: inline-block !important;position: relative;}#sk-container-id-1 div.sk-text-repr-fallback {display: none;}</style><div id=\"sk-container-id-1\" class=\"sk-top-container\"><div class=\"sk-text-repr-fallback\"><pre>RandomForestClassifier()</pre><b>In a Jupyter environment, please rerun this cell to show the HTML representation or trust the notebook. <br />On GitHub, the HTML representation is unable to render, please try loading this page with nbviewer.org.</b></div><div class=\"sk-container\" hidden><div class=\"sk-item\"><div class=\"sk-estimator sk-toggleable\"><input class=\"sk-toggleable__control sk-hidden--visually\" id=\"sk-estimator-id-1\" type=\"checkbox\" checked><label for=\"sk-estimator-id-1\" class=\"sk-toggleable__label sk-toggleable__label-arrow\">RandomForestClassifier</label><div class=\"sk-toggleable__content\"><pre>RandomForestClassifier()</pre></div></div></div></div></div>"
            ]
          },
          "metadata": {},
          "execution_count": 25
        }
      ]
    },
    {
      "cell_type": "markdown",
      "source": [
        "Predict Test Data"
      ],
      "metadata": {
        "id": "9M2IMwD13Z4V"
      }
    },
    {
      "cell_type": "code",
      "source": [
        "y_pred = rf.predict(X_test)"
      ],
      "metadata": {
        "id": "j0WaEq0T3cDs"
      },
      "execution_count": null,
      "outputs": []
    },
    {
      "cell_type": "code",
      "source": [
        "y_pred"
      ],
      "metadata": {
        "colab": {
          "base_uri": "https://localhost:8080/"
        },
        "id": "SFIm5fa63f9C",
        "outputId": "2af7aa4a-ed43-4d24-ad1e-f6608a8d4b80"
      },
      "execution_count": null,
      "outputs": [
        {
          "output_type": "execute_result",
          "data": {
            "text/plain": [
              "array([3, 7, 0, 3, 0, 5, 7, 1, 0, 9, 9, 6, 9, 0, 1, 1, 5, 6, 3, 3, 8, 7,\n",
              "       7, 6, 6, 4, 5, 1, 1, 0, 4, 2, 1, 5, 5, 1, 5, 5, 7, 1, 1, 4, 4, 7,\n",
              "       0, 1, 7, 6, 1, 1, 4, 2, 3, 9, 3, 5, 7, 5, 3, 2, 5, 5, 1, 5, 2, 1,\n",
              "       4, 2, 5, 6, 1, 7, 7, 3, 8, 3, 9, 8, 4, 2, 0, 6, 1, 1, 4, 5, 9, 1,\n",
              "       8, 8, 9, 1, 3, 3, 6, 6, 9, 4, 8, 1, 8, 6, 3, 0, 3, 6, 4, 5, 8, 6,\n",
              "       3, 9, 2, 6, 3, 7, 4, 5, 0, 7, 8, 9, 0, 7, 8, 1, 1, 6, 5, 9, 2, 4,\n",
              "       0, 5, 5, 3, 2, 7, 1, 2, 6, 6, 1, 5, 3, 8, 4, 5, 0, 7, 5, 6, 8, 4,\n",
              "       0, 4, 4, 8, 4, 0, 2, 5, 2, 7, 8, 7, 0, 4, 3, 3, 0, 0, 3, 5, 3, 4,\n",
              "       9, 8, 5, 4, 0, 6, 9, 9, 4, 3, 0, 0, 8, 1, 1, 5, 6, 5, 3, 5, 5, 5,\n",
              "       5, 2, 0, 2, 2, 8, 9, 9, 2, 6, 1, 2, 6, 5, 4, 1, 1, 5, 6, 2, 6, 6,\n",
              "       0, 4, 8, 9, 6, 7, 5, 4, 4, 6, 0, 3, 7, 3, 3, 1, 8, 5, 2, 9, 9, 1,\n",
              "       0, 9, 5, 8, 0, 3, 6, 5, 3, 0, 2, 6, 5, 3, 0, 7, 7, 9, 7, 5, 0, 1,\n",
              "       0, 2, 7, 9, 4, 8, 7, 7, 9, 0, 0, 1, 1, 8, 7, 3, 5, 2, 1, 5, 8, 7,\n",
              "       8, 1, 9, 0, 7, 3, 6, 8, 7, 8, 2, 7, 6, 9, 0, 8, 9, 9, 9, 5, 8, 5,\n",
              "       6, 4, 7, 2, 5, 2, 6, 1, 9, 2, 7, 6, 8, 8, 2, 4, 1, 0, 7, 9, 2, 4,\n",
              "       8, 9, 7, 4, 1, 9, 8, 1, 0, 6, 6, 0, 2, 4, 4, 4, 4, 0, 3, 7, 7, 5,\n",
              "       6, 7, 0, 1, 0, 5, 6, 6, 7, 9, 3, 4, 9, 5, 3, 0, 0, 7, 2, 4, 9, 7,\n",
              "       3, 9, 1, 0, 2, 8, 2, 9, 5, 0, 5, 8, 7, 5, 2, 8, 2, 0, 2, 7, 4, 6,\n",
              "       0, 1, 9, 2, 9, 9, 3, 5, 5, 9, 6, 6, 4, 7, 9, 7, 1, 1, 1, 6, 9, 1,\n",
              "       6, 5, 9, 0, 1, 3, 5, 8, 0, 5, 9, 6, 1, 0, 9, 2, 2, 0, 8, 3, 5, 3,\n",
              "       4, 1, 7, 3, 0, 8, 4, 4, 9, 4, 0, 7, 6, 4, 1, 7, 2, 4, 0, 4, 4, 0,\n",
              "       7, 3, 5, 6, 1, 3, 8, 6, 7, 3, 8, 4, 3, 2, 6, 8, 3, 0, 8, 3, 1, 5,\n",
              "       4, 5, 6, 7, 5, 9, 7, 2, 2, 7, 9, 5, 3, 1, 1, 6, 2, 7, 1, 1, 9, 1,\n",
              "       6, 1, 9, 3, 3, 1, 7, 4, 4, 1, 5, 7, 7, 2, 1, 5, 8, 4, 2, 2, 0, 5,\n",
              "       7, 2, 1, 3, 4, 9, 5, 0, 6, 0, 8, 3])"
            ]
          },
          "metadata": {},
          "execution_count": 27
        }
      ]
    },
    {
      "cell_type": "markdown",
      "source": [
        "Model Accuracy\n"
      ],
      "metadata": {
        "id": "R-imhAgQ3klz"
      }
    },
    {
      "cell_type": "code",
      "source": [
        "from sklearn.metrics import confusion_matrix, classification_report\n"
      ],
      "metadata": {
        "id": "3aDh0Lur3mmp"
      },
      "execution_count": null,
      "outputs": []
    },
    {
      "cell_type": "code",
      "source": [
        "confusion_matrix(y_test, y_pred)"
      ],
      "metadata": {
        "colab": {
          "base_uri": "https://localhost:8080/"
        },
        "id": "I272QWIh3t46",
        "outputId": "94fb3801-a463-417e-82b2-fda9438903b6"
      },
      "execution_count": null,
      "outputs": [
        {
          "output_type": "execute_result",
          "data": {
            "text/plain": [
              "array([[57,  0,  0,  0,  0,  0,  0,  0,  0,  0],\n",
              "       [ 0, 61,  0,  0,  0,  0,  0,  0,  0,  0],\n",
              "       [ 0,  0, 46,  0,  0,  0,  0,  0,  0,  0],\n",
              "       [ 0,  0,  0, 50,  0,  1,  0,  0,  0,  0],\n",
              "       [ 0,  0,  0,  0, 51,  0,  0,  1,  0,  1],\n",
              "       [ 0,  0,  0,  0,  1, 60,  0,  0,  1,  0],\n",
              "       [ 0,  1,  0,  0,  0,  1, 52,  0,  1,  0],\n",
              "       [ 0,  0,  0,  0,  0,  0,  0, 55,  0,  0],\n",
              "       [ 0,  1,  1,  0,  0,  1,  0,  1, 42,  0],\n",
              "       [ 0,  0,  0,  1,  0,  2,  0,  0,  0, 51]])"
            ]
          },
          "metadata": {},
          "execution_count": 29
        }
      ]
    },
    {
      "cell_type": "code",
      "source": [
        "print(classification_report(y_test, y_pred))\n"
      ],
      "metadata": {
        "colab": {
          "base_uri": "https://localhost:8080/"
        },
        "id": "k-6ba_W83xbO",
        "outputId": "fa8971d0-fae2-499f-dda7-1efd11dd2642"
      },
      "execution_count": null,
      "outputs": [
        {
          "output_type": "stream",
          "name": "stdout",
          "text": [
            "              precision    recall  f1-score   support\n",
            "\n",
            "           0       1.00      1.00      1.00        57\n",
            "           1       0.97      1.00      0.98        61\n",
            "           2       0.98      1.00      0.99        46\n",
            "           3       0.98      0.98      0.98        51\n",
            "           4       0.98      0.96      0.97        53\n",
            "           5       0.92      0.97      0.94        62\n",
            "           6       1.00      0.95      0.97        55\n",
            "           7       0.96      1.00      0.98        55\n",
            "           8       0.95      0.91      0.93        46\n",
            "           9       0.98      0.94      0.96        54\n",
            "\n",
            "    accuracy                           0.97       540\n",
            "   macro avg       0.97      0.97      0.97       540\n",
            "weighted avg       0.97      0.97      0.97       540\n",
            "\n"
          ]
        }
      ]
    }
  ]
}